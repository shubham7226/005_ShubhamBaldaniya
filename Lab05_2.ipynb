{
  "nbformat": 4,
  "nbformat_minor": 0,
  "metadata": {
    "kernelspec": {
      "display_name": "Python 3",
      "language": "python",
      "name": "python3"
    },
    "language_info": {
      "name": "python",
      "version": "3.6.6",
      "mimetype": "text/x-python",
      "codemirror_mode": {
        "name": "ipython",
        "version": 3
      },
      "pygments_lexer": "ipython3",
      "nbconvert_exporter": "python",
      "file_extension": ".py"
    },
    "colab": {
      "name": "Lab_05_2_linear_regression_Tensorflow.ipynb",
      "provenance": [],
      "collapsed_sections": [],
      "include_colab_link": true
    }
  },
  "cells": [
    {
      "cell_type": "markdown",
      "metadata": {
        "id": "view-in-github",
        "colab_type": "text"
      },
      "source": [
        "<a href=\"https://colab.research.google.com/github/shubham7226/005_ShubhamBaldaniya/blob/main/Lab05_2.ipynb\" target=\"_parent\"><img src=\"https://colab.research.google.com/assets/colab-badge.svg\" alt=\"Open In Colab\"/></a>"
      ]
    },
    {
      "cell_type": "code",
      "metadata": {
        "_cell_guid": "79c7e3d0-c299-4dcb-8224-4455121ee9b0",
        "_uuid": "d629ff2d2480ee46fbb7e2d37f6b5fab8052498a",
        "trusted": true,
        "id": "v0BtAX1--7l_"
      },
      "source": [
        "# Import Numpy\n",
        "import numpy as np\n",
        "import pandas as pd \n",
        "import tensorflow as tf\n",
        "import matplotlib.pyplot as plt\n",
        "import seaborn as sns\n",
        "\n",
        "from tensorflow import keras\n",
        "from tensorflow.keras import layers\n",
        "from tensorflow.keras.layers.experimental import preprocessing\n",
        "from sklearn.preprocessing import Normalizer\n",
        "import sklearn.preprocessing"
      ],
      "execution_count": 13,
      "outputs": []
    },
    {
      "cell_type": "markdown",
      "metadata": {
        "_uuid": "ecc6e79cdfb6a8ca882895ccc895b61b960b0a04",
        "id": "i1HSrBDb-7t9"
      },
      "source": [
        "## Linear Regression Model using TensorFlow"
      ]
    },
    {
      "cell_type": "code",
      "metadata": {
        "trusted": true,
        "_uuid": "74bb18bd01ac809079eeb8d05695206e8ba02069",
        "id": "wCsxgTWO-7uM"
      },
      "source": [
        "# Input (temp, rainfall, humidity)\n",
        "inputs = np.array([[73, 67, 43], [91, 88, 64], [87, 134, 58], [102, 43, 37], [69, 96, 70], [73, 67, 43], [91, 88, 64], [87, 134, 58], [102, 43, 37], [69, 96, 70], [73, 67, 43], [91, 88, 64], [87, 134, 58], [102, 43, 37], [69, 96, 70]], dtype='float32')\n",
        "# Targets (apples)\n",
        "targets = np.array([[56], [81], [119], [22], [103], \n",
        "                    [56], [81], [119], [22], [103], \n",
        "                    [56], [81], [119], [22], [103]], dtype='float32')\n",
        "n = len(inputs) # Number of data points"
      ],
      "execution_count": 14,
      "outputs": []
    },
    {
      "cell_type": "code",
      "metadata": {
        "id": "PG5sep_RgD0M"
      },
      "source": [
        "from sklearn.model_selection import train_test_split\n",
        "main_data = pd.DataFrame(inputs, columns = ['temp','rainfall','humidity'])\n",
        "Y_rows = pd.DataFrame(targets, columns = ['apples'])\n",
        "\n",
        "X_train, X_test, Y_train, Y_test = train_test_split(main_data, Y_rows, test_size = 0.30, random_state = 12)"
      ],
      "execution_count": 15,
      "outputs": []
    },
    {
      "cell_type": "code",
      "metadata": {
        "trusted": true,
        "_uuid": "32588a47d0478772a1f08fa55874a322630bd0b6",
        "id": "c3Bf-Emn-7wj"
      },
      "source": [
        "test_results = {}"
      ],
      "execution_count": 16,
      "outputs": []
    },
    {
      "cell_type": "code",
      "metadata": {
        "colab": {
          "base_uri": "https://localhost:8080/"
        },
        "id": "awiCJB7HcLA1",
        "outputId": "603f631c-7292-4105-8a4c-58d6a2d0b066"
      },
      "source": [
        "norm_X_test = np.linalg.norm(X_test['rainfall'])\n",
        "norm_X_train = np.linalg.norm(X_train['rainfall'])\n",
        "# norm_Y_test = np.linalg.norm(Y_test['rainfall'])\n",
        "norm_Y_train = np.linalg.norm(Y_train['apples'])\n",
        "\n",
        "normal_array_X_test = X_test['rainfall']/norm_X_test\n",
        "normal_array_X_train = X_train['rainfall']/norm_X_train\n",
        "normal_array_Y_train = Y_train['apples']/norm_Y_train\n",
        "\n",
        "print(normal_array_X_train)\n",
        "print(normal_array_X_test)\n",
        "print(normal_array_Y_train)"
      ],
      "execution_count": 17,
      "outputs": [
        {
          "output_type": "stream",
          "name": "stdout",
          "text": [
            "13    0.154938\n",
            "0     0.241415\n",
            "4     0.345908\n",
            "9     0.345908\n",
            "3     0.154938\n",
            "2     0.482830\n",
            "1     0.317083\n",
            "6     0.317083\n",
            "14    0.345908\n",
            "11    0.317083\n",
            "Name: rainfall, dtype: float32\n",
            "12    0.619819\n",
            "10    0.309910\n",
            "8     0.198897\n",
            "5     0.309910\n",
            "7     0.619819\n",
            "Name: rainfall, dtype: float32\n",
            "13    0.083286\n",
            "0     0.212001\n",
            "4     0.389931\n",
            "9     0.389931\n",
            "3     0.083286\n",
            "2     0.450502\n",
            "1     0.306644\n",
            "6     0.306644\n",
            "14    0.389931\n",
            "11    0.306644\n",
            "Name: apples, dtype: float32\n"
          ]
        }
      ]
    },
    {
      "cell_type": "code",
      "metadata": {
        "colab": {
          "base_uri": "https://localhost:8080/"
        },
        "id": "elqW70N3cRK5",
        "outputId": "0a88a154-0bad-4161-b8cc-b215e57dae73"
      },
      "source": [
        "normalizer = preprocessing.Normalization(axis = -1)\n",
        "normalizer.adapt(np.array(X_train))\n",
        "linear_model = tf.keras.Sequential([\n",
        "    normalizer,\n",
        "    layers.Dense(units = 1)\n",
        "])\n",
        "print(linear_model.predict(X_train[:9]))"
      ],
      "execution_count": 18,
      "outputs": [
        {
          "output_type": "stream",
          "name": "stdout",
          "text": [
            "[[ 2.467857  ]\n",
            " [ 0.35745284]\n",
            " [-1.075189  ]\n",
            " [-1.075189  ]\n",
            " [ 2.467857  ]\n",
            " [-2.2230446 ]\n",
            " [ 0.05181501]\n",
            " [ 0.05181501]\n",
            " [-1.075189  ]]\n"
          ]
        }
      ]
    },
    {
      "cell_type": "code",
      "metadata": {
        "id": "_Tkgvs6McZ2z"
      },
      "source": [
        " linear_model.compile(\n",
        "    optimizer=tf.optimizers.Adam(learning_rate = 0.1),\n",
        "    loss='mean_absolute_error')"
      ],
      "execution_count": 19,
      "outputs": []
    },
    {
      "cell_type": "code",
      "metadata": {
        "id": "nYa71iCLcb0Q"
      },
      "source": [
        "history = linear_model.fit(\n",
        "    X_train, Y_train, \n",
        "    epochs = 1000,\n",
        "    # suppress logging\n",
        "    verbose=0,\n",
        "    # Calculate validation results on 20% of the training data\n",
        "    validation_split = 0.2)"
      ],
      "execution_count": 20,
      "outputs": []
    },
    {
      "cell_type": "code",
      "metadata": {
        "colab": {
          "base_uri": "https://localhost:8080/"
        },
        "id": "93urpITjceBU",
        "outputId": "2039b4b5-5882-404e-aba1-b570aed0a752"
      },
      "source": [
        "test_results['linear_model'] = linear_model.evaluate(\n",
        "    X_test, Y_test, verbose = 0)\n",
        "\n",
        "test_results['linear_model']"
      ],
      "execution_count": 21,
      "outputs": [
        {
          "output_type": "execute_result",
          "data": {
            "text/plain": [
              "2.1277992725372314"
            ]
          },
          "metadata": {},
          "execution_count": 21
        }
      ]
    }
  ]
}