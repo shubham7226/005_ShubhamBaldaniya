{
  "nbformat": 4,
  "nbformat_minor": 0,
  "metadata": {
    "colab": {
      "name": "005_K_Means.ipynb",
      "provenance": [],
      "collapsed_sections": [],
      "include_colab_link": true
    },
    "kernelspec": {
      "name": "python3",
      "display_name": "Python 3"
    },
    "language_info": {
      "name": "python"
    }
  },
  "cells": [
    {
      "cell_type": "markdown",
      "metadata": {
        "id": "view-in-github",
        "colab_type": "text"
      },
      "source": [
        "<a href=\"https://colab.research.google.com/github/shubham7226/005_ShubhamBaldaniya/blob/main/005_Lab8.ipynb\" target=\"_parent\"><img src=\"https://colab.research.google.com/assets/colab-badge.svg\" alt=\"Open In Colab\"/></a>"
      ]
    },
    {
      "cell_type": "markdown",
      "metadata": {
        "id": "S7qSnAEYI5e1"
      },
      "source": [
        "#Import Libraries\n"
      ]
    },
    {
      "cell_type": "code",
      "metadata": {
        "id": "7FXNRGJRJEUN"
      },
      "source": [
        "import numpy as np \n",
        "import pandas as pd \n",
        "from sklearn import datasets\n",
        "from sklearn.cluster import KMeans\n",
        "import matplotlib.pyplot as plt"
      ],
      "execution_count": 1,
      "outputs": []
    },
    {
      "cell_type": "markdown",
      "metadata": {
        "id": "fP22LZbrJGmV"
      },
      "source": [
        "# Prepare Data"
      ]
    },
    {
      "cell_type": "code",
      "metadata": {
        "colab": {
          "base_uri": "https://localhost:8080/"
        },
        "id": "i7AZkhqWJMVu",
        "outputId": "bbe12ae7-de28-4bd2-fde3-6f28daa4ae2a"
      },
      "source": [
        "dataset=datasets.load_breast_cancer()\n",
        "dataset\n",
        "\n",
        "print(dataset.data.shape)\n",
        "print(dataset.target.shape)\n"
      ],
      "execution_count": 2,
      "outputs": [
        {
          "output_type": "stream",
          "name": "stdout",
          "text": [
            "(569, 30)\n",
            "(569,)\n"
          ]
        }
      ]
    },
    {
      "cell_type": "markdown",
      "metadata": {
        "id": "qozQIG6NJaJD"
      },
      "source": [
        "# K-Mean Model"
      ]
    },
    {
      "cell_type": "code",
      "metadata": {
        "colab": {
          "base_uri": "https://localhost:8080/"
        },
        "id": "K7TaVJmsJi0m",
        "outputId": "9246a481-1ef1-4810-b37a-a3570afdce7e"
      },
      "source": [
        "kmeans = KMeans(n_clusters=10, random_state=5)\n",
        "prediction = kmeans.fit_predict(dataset.data)\n",
        "print(prediction)\n",
        "\n",
        "kmeans.cluster_centers_.shape\n",
        "print(kmeans.cluster_centers_)"
      ],
      "execution_count": 3,
      "outputs": [
        {
          "output_type": "stream",
          "name": "stdout",
          "text": [
            "[8 8 1 0 1 4 1 2 4 4 5 5 5 2 4 2 2 5 8 4 4 9 2 6 8 5 2 5 5 5 1 4 5 1 5 5 2\n",
            " 0 4 4 4 0 1 2 4 1 9 4 0 4 0 4 0 5 2 0 8 2 4 9 9 9 2 9 2 2 9 0 9 0 1 9 1 4\n",
            " 0 5 4 1 1 4 0 4 6 5 0 1 2 1 0 2 2 2 4 4 2 1 0 9 0 2 2 9 0 9 9 4 0 0 6 0 9\n",
            " 0 4 9 9 0 9 2 5 5 0 1 6 4 4 4 2 1 4 1 0 5 5 2 1 4 0 0 2 0 9 5 0 4 0 0 0 2\n",
            " 4 4 4 9 9 0 4 0 5 2 0 0 0 1 8 0 6 2 9 5 1 2 0 2 2 9 9 9 9 2 4 0 3 8 5 0 2\n",
            " 9 5 0 0 0 4 0 9 4 2 4 4 5 1 2 4 5 6 2 4 2 9 5 4 2 1 0 6 5 4 4 0 9 8 8 4 4\n",
            " 9 2 4 2 9 2 4 4 5 0 0 8 9 4 3 1 4 5 4 0 0 4 1 9 4 4 0 0 8 0 8 5 8 2 8 2 5\n",
            " 2 1 5 5 2 5 3 9 4 0 9 4 0 6 9 5 0 0 5 4 4 1 0 1 2 0 0 0 0 0 0 4 2 0 0 0 4\n",
            " 9 0 2 9 8 0 1 9 0 0 4 9 4 4 0 2 4 0 9 0 0 1 9 0 9 1 0 8 0 0 4 0 5 2 2 4 0\n",
            " 0 0 5 0 1 9 3 2 9 0 1 0 9 0 2 0 0 0 2 3 2 0 0 0 4 9 9 0 4 0 2 4 1 1 0 3 8\n",
            " 5 2 1 8 4 2 9 4 4 0 0 0 0 0 4 4 0 4 0 5 9 9 5 8 0 4 4 0 0 0 5 0 4 0 0 0 2\n",
            " 4 5 0 0 0 9 2 2 0 9 1 0 0 0 2 0 4 9 9 9 0 0 0 2 0 1 1 2 2 4 4 4 4 0 5 4 9\n",
            " 5 0 5 2 2 8 0 1 0 4 4 4 0 4 4 9 1 7 4 0 4 4 4 9 5 0 9 0 2 0 9 4 2 4 0 2 0\n",
            " 2 4 4 2 0 2 1 0 5 0 5 5 0 4 2 4 0 1 1 2 4 0 3 9 9 0 9 2 2 0 4 4 2 2 0 1 1\n",
            " 4 4 9 6 0 4 9 9 4 0 4 0 0 0 4 1 9 1 4 0 9 9 0 2 2 4 4 4 9 9 9 0 9 0 0 9 0\n",
            " 9 9 9 4 0 4 0 2 1 8 1 5 1 9]\n",
            "[[1.18841935e+01 1.80447742e+01 7.63104516e+01 4.34658065e+02\n",
            "  9.32538710e-02 7.75217419e-02 4.33570755e-02 2.48717290e-02\n",
            "  1.74172258e-01 6.25764516e-02 2.76234194e-01 1.25724065e+00\n",
            "  1.95927806e+00 2.01309419e+01 7.09233548e-03 2.03736258e-02\n",
            "  2.37551200e-02 9.86405161e-03 2.09970968e-02 3.29938194e-03\n",
            "  1.30834839e+01 2.41221935e+01 8.49736774e+01 5.23686452e+02\n",
            "  1.26979677e-01 1.80628774e-01 1.62592419e-01 7.48411097e-02\n",
            "  2.75863226e-01 7.89291613e-02]\n",
            " [1.93304000e+01 2.18666000e+01 1.27704000e+02 1.16244000e+03\n",
            "  1.00130400e-01 1.46810000e-01 1.72858400e-01 9.79644000e-02\n",
            "  1.93584000e-01 6.02716000e-02 7.01468000e-01 1.22631800e+00\n",
            "  4.90694000e+00 8.50508000e+01 6.69096000e-03 3.24586000e-02\n",
            "  4.38970000e-02 1.60523200e-02 2.17172000e-02 3.87178000e-03\n",
            "  2.32956000e+01 2.89760000e+01 1.55636000e+02 1.65350000e+03\n",
            "  1.39260000e-01 3.59008000e-01 4.49706000e-01 1.87610000e-01\n",
            "  3.17270000e-01 8.56706000e-02]\n",
            " [1.49393827e+01 1.96224691e+01 9.76930864e+01 6.90612346e+02\n",
            "  9.78967901e-02 1.17889259e-01 1.05058519e-01 5.69423457e-02\n",
            "  1.83782716e-01 6.21432099e-02 3.61104938e-01 1.04224198e+00\n",
            "  2.61037037e+00 3.32383951e+01 6.04149383e-03 2.64048025e-02\n",
            "  3.31612222e-02 1.24540864e-02 1.87573580e-02 3.37114568e-03\n",
            "  1.72240741e+01 2.65748148e+01 1.14497531e+02 9.09593827e+02\n",
            "  1.35813457e-01 3.15140494e-01 3.49247284e-01 1.40424691e-01\n",
            "  3.04134568e-01 8.69291358e-02]\n",
            " [2.36000000e+01 2.26814286e+01 1.56228571e+02 1.76057143e+03\n",
            "  1.01177143e-01 1.50231429e-01 2.10114286e-01 1.30744286e-01\n",
            "  1.77900000e-01 5.70257143e-02 1.08112857e+00 1.09044286e+00\n",
            "  7.40971429e+00 1.72242857e+02 5.65600000e-03 2.50857143e-02\n",
            "  3.38128571e-02 1.43528571e-02 1.68714286e-02 2.75742857e-03\n",
            "  3.17085714e+01 3.13057143e+01 2.11928571e+02 3.09385714e+03\n",
            "  1.42300000e-01 3.52457143e-01 4.64671429e-01 2.26700000e-01\n",
            "  2.93257143e-01 7.90014286e-02]\n",
            " [1.34873043e+01 1.88466087e+01 8.73191304e+01 5.61253043e+02\n",
            "  9.32584348e-02 9.49542609e-02 6.52769130e-02 3.66845391e-02\n",
            "  1.74571304e-01 6.18400870e-02 2.95326957e-01 1.08092522e+00\n",
            "  2.08996435e+00 2.46183478e+01 5.88134783e-03 2.31726522e-02\n",
            "  2.68093304e-02 1.03098522e-02 1.80626261e-02 3.53143739e-03\n",
            "  1.50771304e+01 2.51452174e+01 9.90177391e+01 6.97186957e+02\n",
            "  1.27514087e-01 2.49676957e-01 2.44829930e-01 1.01917557e-01\n",
            "  2.84213043e-01 8.41506087e-02]\n",
            " [1.71654902e+01 2.14703922e+01 1.12954902e+02 9.19127451e+02\n",
            "  9.90290196e-02 1.30420588e-01 1.36440000e-01 7.88466667e-02\n",
            "  1.88245098e-01 6.06092157e-02 5.57915686e-01 1.26505294e+00\n",
            "  3.99598039e+00 6.07598039e+01 6.76343137e-03 3.03081569e-02\n",
            "  3.86054902e-02 1.50461765e-02 1.96200000e-02 4.09145098e-03\n",
            "  2.03529412e+01 2.87049020e+01 1.35307843e+02 1.27421569e+03\n",
            "  1.37253725e-01 3.14065882e-01 3.77692157e-01 1.64474314e-01\n",
            "  3.10113725e-01 8.45703922e-02]\n",
            " [2.37722222e+01 2.19544444e+01 1.60000000e+02 1.75044444e+03\n",
            "  1.09731111e-01 2.01488889e-01 2.83566667e-01 1.47637778e-01\n",
            "  2.01888889e-01 6.24622222e-02 1.17362222e+00 1.49005556e+00\n",
            "  8.74544444e+00 1.80033333e+02 9.01133333e-03 4.89277778e-02\n",
            "  6.52155556e-02 1.78033333e-02 2.50266667e-02 5.06411111e-03\n",
            "  2.81044444e+01 2.84100000e+01 1.93188889e+02 2.39155556e+03\n",
            "  1.43233333e-01 4.23288889e-01 5.61644444e-01 2.33600000e-01\n",
            "  2.98655556e-01 8.64855556e-02]\n",
            " [2.74200000e+01 2.62700000e+01 1.86900000e+02 2.50100000e+03\n",
            "  1.08400000e-01 1.98800000e-01 3.63500000e-01 1.68900000e-01\n",
            "  2.06100000e-01 5.62300000e-02 2.54700000e+00 1.30600000e+00\n",
            "  1.86500000e+01 5.42200000e+02 7.65000000e-03 5.37400000e-02\n",
            "  8.05500000e-02 2.59800000e-02 1.69700000e-02 4.55800000e-03\n",
            "  3.60400000e+01 3.13700000e+01 2.51200000e+02 4.25400000e+03\n",
            "  1.35700000e-01 4.25600000e-01 6.83300000e-01 2.62500000e-01\n",
            "  2.64100000e-01 7.42700000e-02]\n",
            " [2.00576190e+01 2.15780952e+01 1.32776190e+02 1.25974286e+03\n",
            "  1.03565238e-01 1.57120952e-01 1.95300000e-01 1.11628095e-01\n",
            "  1.90104762e-01 6.11400000e-02 7.85319048e-01 9.89100000e-01\n",
            "  5.38428571e+00 1.03180476e+02 5.89423810e-03 2.94171429e-02\n",
            "  4.04257143e-02 1.50004762e-02 1.70866667e-02 3.76695238e-03\n",
            "  2.59538095e+01 2.90633333e+01 1.72333333e+02 2.07366667e+03\n",
            "  1.45885714e-01 4.01809524e-01 5.18171429e-01 2.18690476e-01\n",
            "  3.21019048e-01 9.17647619e-02]\n",
            " [9.68998734e+00 1.76962025e+01 6.19331646e+01 2.87912658e+02\n",
            "  9.72683544e-02 8.26591139e-02 4.68458101e-02 1.86377722e-02\n",
            "  1.84582278e-01 6.93812658e-02 3.01496203e-01 1.51689873e+00\n",
            "  2.07436329e+00 1.79974937e+01 1.02491519e-02 2.63216329e-02\n",
            "  3.51835316e-02 1.03417595e-02 2.57197468e-02 5.29015190e-03\n",
            "  1.06513797e+01 2.27577215e+01 6.86641772e+01 3.46643038e+02\n",
            "  1.33207975e-01 1.68758987e-01 1.46948734e-01 5.31982278e-02\n",
            "  2.72775949e-01 8.71296203e-02]]\n"
          ]
        }
      ]
    },
    {
      "cell_type": "markdown",
      "metadata": {
        "id": "UihgghsqJ4CM"
      },
      "source": [
        "#Scatter plot of the data points"
      ]
    },
    {
      "cell_type": "code",
      "metadata": {
        "colab": {
          "base_uri": "https://localhost:8080/",
          "height": 197
        },
        "id": "0lq2r4a5Juz3",
        "outputId": "e4452271-9368-431e-aaf6-e873f26fdde6"
      },
      "source": [
        "# Scatter plot of the data points\n",
        "import matplotlib.pyplot as plt\n",
        "fig, ax = plt.subplots(2, 5, figsize=(8, 3))\n",
        "centers = kmeans.cluster_centers_.reshape(10, 6, 5)\n",
        "for axi, center in zip(ax.flat, centers):\n",
        "  axi.set(xticks=[], yticks=[])\n",
        "  axi.imshow(center, interpolation='nearest', cmap=plt.cm.binary)"
      ],
      "execution_count": 4,
      "outputs": [
        {
          "output_type": "display_data",
          "data": {
            "image/png": "[encoded data removed]",
            "text/plain": [
              "<Figure size 576x216 with 10 Axes>"
            ]
          },
          "metadata": {}
        }
      ]
    },
    {
      "cell_type": "code",
      "metadata": {
        "id": "MZlMnq52KCac"
      },
      "source": [
        "import numpy as np\n",
        "from scipy.stats import mode\n",
        "labels = np.zeros_like(prediction)\n",
        "for i in range(10):\n",
        "  mask = (prediction == i)\n",
        "  labels[mask] = mode(dataset.target[mask])[0]"
      ],
      "execution_count": 5,
      "outputs": []
    },
    {
      "cell_type": "code",
      "metadata": {
        "colab": {
          "base_uri": "https://localhost:8080/"
        },
        "id": "6X98BQgcKLin",
        "outputId": "a4ffcdfc-b814-4ac5-f1aa-757f8738920c"
      },
      "source": [
        "from sklearn.metrics import accuracy_score\n",
        "accuracy_score(dataset.target, labels)"
      ],
      "execution_count": 6,
      "outputs": [
        {
          "output_type": "execute_result",
          "data": {
            "text/plain": [
              "0.8875219683655536"
            ]
          },
          "metadata": {},
          "execution_count": 6
        }
      ]
    },
    {
      "cell_type": "code",
      "metadata": {
        "colab": {
          "base_uri": "https://localhost:8080/",
          "height": 279
        },
        "id": "X-CKx1rCKOpg",
        "outputId": "50295300-b7d6-4ce6-8ee6-302d4b362f26"
      },
      "source": [
        "from sklearn.metrics import confusion_matrix\n",
        "import seaborn as sns\n",
        "mat = confusion_matrix(dataset.target, labels)\n",
        "ax = sns.heatmap(mat.T, square=True, annot=True, fmt='d', cbar=False,xticklabels=dataset.target_names,yticklabels=dataset.target_names)\n",
        "\n",
        "#ax.set_ylim(10,10)\n",
        "plt.xlabel('true label')\n",
        "plt.ylabel('predicted label');"
      ],
      "execution_count": 7,
      "outputs": [
        {
          "output_type": "display_data",
          "data": {
            "image/png": "[encoded data removed]",
            "text/plain": [
              "<Figure size 432x288 with 1 Axes>"
            ]
          },
          "metadata": {
            "needs_background": "light"
          }
        }
      ]
    }
  ]
}